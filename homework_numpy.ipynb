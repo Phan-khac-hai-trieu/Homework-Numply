{
  "nbformat": 4,
  "nbformat_minor": 0,
  "metadata": {
    "colab": {
      "name": "homework numpy",
      "provenance": [],
      "collapsed_sections": []
    },
    "kernelspec": {
      "name": "python3",
      "display_name": "Python 3"
    }
  },
  "cells": [
    {
      "cell_type": "markdown",
      "metadata": {
        "id": "OqL2qtoMuNjg",
        "colab_type": "text"
      },
      "source": [
        "**NUMPY EXERCISE**"
      ]
    },
    {
      "cell_type": "markdown",
      "metadata": {
        "id": "u1uiw0epuTOA",
        "colab_type": "text"
      },
      "source": [
        "**1. Import Numpy**"
      ]
    },
    {
      "cell_type": "code",
      "metadata": {
        "id": "t3xdpquPuKG8",
        "colab_type": "code",
        "colab": {}
      },
      "source": [
        "import numpy as np"
      ],
      "execution_count": 0,
      "outputs": []
    },
    {
      "cell_type": "markdown",
      "metadata": {
        "id": "eA85IxSAubUP",
        "colab_type": "text"
      },
      "source": [
        "**2. Manually create a matrix**\n",
        "\n",
        "Create a 3-by-5 matrix and print it out to the screen"
      ]
    },
    {
      "cell_type": "code",
      "metadata": {
        "id": "Gs0bbL7FuZ6-",
        "colab_type": "code",
        "outputId": "1f393b74-e203-44e1-da13-eb732276c6fc",
        "colab": {
          "base_uri": "https://localhost:8080/",
          "height": 67
        }
      },
      "source": [
        "import numpy as np\n",
        "\n",
        "a = np.array([[1,2,3,4,10],[4,5,6,7,9],[4,6,5,3,4]])\n",
        "a.shape = (3,5)\n",
        "print(a)"
      ],
      "execution_count": 0,
      "outputs": [
        {
          "output_type": "stream",
          "text": [
            "[[ 1  2  3  4 10]\n",
            " [ 4  5  6  7  9]\n",
            " [ 4  6  5  3  4]]\n"
          ],
          "name": "stdout"
        }
      ]
    },
    {
      "cell_type": "markdown",
      "metadata": {
        "id": "fQyJbHBUu1SY",
        "colab_type": "text"
      },
      "source": [
        "**3. Manually create a vector**\n",
        "\n",
        "Create a vector which has 10 elements and print it out to the screen"
      ]
    },
    {
      "cell_type": "code",
      "metadata": {
        "id": "cWpVwEK4vAvM",
        "colab_type": "code",
        "outputId": "daf6a662-c742-4899-ca20-464174a94c1f",
        "colab": {
          "base_uri": "https://localhost:8080/",
          "height": 34
        }
      },
      "source": [
        "import numpy as np\n",
        "vector = np.arange(1,11)\n",
        "print(vector)"
      ],
      "execution_count": 0,
      "outputs": [
        {
          "output_type": "stream",
          "text": [
            "[ 1  2  3  4  5  6  7  8  9 10]\n"
          ],
          "name": "stdout"
        }
      ]
    },
    {
      "cell_type": "markdown",
      "metadata": {
        "id": "djvBbsRuvz1J",
        "colab_type": "text"
      },
      "source": [
        "**4. Automatically create matrix**\n",
        "\n",
        "\n",
        "\n",
        "1.   Automatically create a 3-by-5 matrix which has interger values in the range of [0, 100]\n",
        "2.   Automatically create a 5-by-7 matrix which has interger values in the range of [0, 100]\n",
        "3.   Print out the above 2 matricces to the screen\n",
        "4.   Implementy matrix multiplication of the above 2 matrices and print the result to the screen (let us call this result matrixx is C)\n",
        "\n",
        "\n"
      ]
    },
    {
      "cell_type": "code",
      "metadata": {
        "id": "glYQOrmvvCtI",
        "colab_type": "code",
        "outputId": "ca5d67cb-e63c-451c-9b66-9b5ff4198a93",
        "colab": {
          "base_uri": "https://localhost:8080/",
          "height": 151
        }
      },
      "source": [
        "import numpy as np\n",
        "a = np.random.randint(0,100,size=(3,5))\n",
        "b = np.random.randint(0,100,size=(5,7))\n",
        "print(a)\n",
        "print(b)"
      ],
      "execution_count": 0,
      "outputs": [
        {
          "output_type": "stream",
          "text": [
            "[[41 13 52 92 61]\n",
            " [74 32 86  8 25]\n",
            " [53 89 32 61 38]]\n",
            "[[60 99 53 30 76 40 90]\n",
            " [ 3 11 79 77 66 38 25]\n",
            " [12 16 26 82 20 52 26]\n",
            " [63 54 72 75 49 61 92]\n",
            " [76 71 39 65 77 16 97]]\n"
          ],
          "name": "stdout"
        }
      ]
    },
    {
      "cell_type": "markdown",
      "metadata": {
        "id": "ZfugKrn7woVg",
        "colab_type": "text"
      },
      "source": [
        "**5. Scalar multiplication**\n",
        "\n",
        "Input a number fromm keyboard and multiply this number with the above matrix C and print the result to the screen"
      ]
    },
    {
      "cell_type": "code",
      "metadata": {
        "id": "jj2Mhfiownrx",
        "colab_type": "code",
        "colab": {}
      },
      "source": [
        "#Your code here"
      ],
      "execution_count": 0,
      "outputs": []
    },
    {
      "cell_type": "markdown",
      "metadata": {
        "id": "Wo4C0TufxEuo",
        "colab_type": "text"
      },
      "source": [
        "**6. Automatically create vector**\n",
        "\n",
        "Automattically create a vector at size of 7-by-1 which has values in the range of [-10, 30]. And multiply the C matrix with this vector. Print the result to the screen."
      ]
    },
    {
      "cell_type": "code",
      "metadata": {
        "id": "hJX6N94cxD1f",
        "colab_type": "code",
        "outputId": "d32d6740-7116-4819-ff72-f17df7a46430",
        "colab": {
          "base_uri": "https://localhost:8080/",
          "height": 134
        }
      },
      "source": [
        "vec = np.random.randint(-10,30,size=(7,1))\n",
        "vec"
      ],
      "execution_count": 0,
      "outputs": [
        {
          "output_type": "execute_result",
          "data": {
            "text/plain": [
              "array([[  7],\n",
              "       [ 22],\n",
              "       [ 18],\n",
              "       [ 20],\n",
              "       [  4],\n",
              "       [-10],\n",
              "       [-10]])"
            ]
          },
          "metadata": {
            "tags": []
          },
          "execution_count": 12
        }
      ]
    },
    {
      "cell_type": "markdown",
      "metadata": {
        "id": "WMTN3Bmlxn7p",
        "colab_type": "text"
      },
      "source": [
        "**7. Matrix slicing**\n",
        "\n",
        "\n",
        "\n",
        "1.   Automatically create a matrix at size of 7-by-15\n",
        "2.   Print out the first column of this matrix \n",
        "3.   Print out the third row of this matrix\n",
        "4.   Print out the element at the second column and fourth row\n",
        "\n"
      ]
    },
    {
      "cell_type": "code",
      "metadata": {
        "id": "bUfAGb8Zxijx",
        "colab_type": "code",
        "outputId": "c0226e83-6b1d-4e15-ad1b-9181b36fdd91",
        "colab": {
          "base_uri": "https://localhost:8080/",
          "height": 134
        }
      },
      "source": [
        "import numpy as np \n",
        "e = np.random.randint(0,30,size=(7, 15))\n",
        "e"
      ],
      "execution_count": 0,
      "outputs": [
        {
          "output_type": "execute_result",
          "data": {
            "text/plain": [
              "array([[27,  0,  8, 10, 29,  5, 23, 16,  1,  6, 21, 11, 14, 29, 24],\n",
              "       [10, 29,  8, 22, 18, 14, 21,  1, 17, 20,  1,  5, 17, 11, 25],\n",
              "       [ 5, 26, 14,  4,  3,  7,  7,  0, 12, 20, 24, 28, 10,  3, 10],\n",
              "       [ 6, 13,  6,  7, 19,  4, 10,  1,  7,  4, 26,  7,  5, 14, 12],\n",
              "       [ 1, 27,  0, 20, 17,  6, 23,  8, 19, 20,  3,  5, 22, 14, 16],\n",
              "       [17, 21,  6, 22, 17, 20, 13, 23, 10,  8, 23,  1, 17, 10, 20],\n",
              "       [ 7, 17,  1, 23, 17,  3, 24, 15,  7, 15, 26, 19,  5, 27, 15]])"
            ]
          },
          "metadata": {
            "tags": []
          },
          "execution_count": 10
        }
      ]
    },
    {
      "cell_type": "markdown",
      "metadata": {
        "id": "lPTe2UOsyO1x",
        "colab_type": "text"
      },
      "source": [
        "**8. Matrix transposition**\n",
        "\n",
        "Perform the matrix transposition of the matrix in question 7 and print out to the screen."
      ]
    },
    {
      "cell_type": "code",
      "metadata": {
        "id": "4vz_r5ebyLAR",
        "colab_type": "code",
        "outputId": "745c498c-ecbc-44dd-e9e3-3ac45b69bc63",
        "colab": {
          "base_uri": "https://localhost:8080/",
          "height": 269
        }
      },
      "source": [
        "e = np.random.randint(0,30,size=(7, 15))\n",
        "e.transpose()"
      ],
      "execution_count": 0,
      "outputs": [
        {
          "output_type": "execute_result",
          "data": {
            "text/plain": [
              "array([[17, 25,  3, 25, 19, 10, 15],\n",
              "       [23, 11, 10, 18, 16, 22, 21],\n",
              "       [19,  8, 13,  3,  8,  8, 15],\n",
              "       [10,  1, 20, 29, 10,  6,  3],\n",
              "       [26, 26,  7, 11, 15, 14, 15],\n",
              "       [ 6, 29, 18, 20, 25, 27, 12],\n",
              "       [15, 24,  8, 16,  4, 29,  7],\n",
              "       [26,  5,  6,  7, 11,  4, 25],\n",
              "       [ 2,  4, 16, 23, 12, 24,  2],\n",
              "       [ 2, 16, 23,  8, 15, 26, 25],\n",
              "       [18, 10,  1, 13, 20, 14, 12],\n",
              "       [18, 23, 16, 29,  1, 14, 28],\n",
              "       [15, 20, 16, 13, 24, 25, 16],\n",
              "       [13, 22, 10, 20, 23, 26,  4],\n",
              "       [29, 21,  3, 14,  7, 10,  6]])"
            ]
          },
          "metadata": {
            "tags": []
          },
          "execution_count": 11
        }
      ]
    },
    {
      "cell_type": "markdown",
      "metadata": {
        "id": "wrmGswxeypvy",
        "colab_type": "text"
      },
      "source": [
        "**9. Matrix addition**\n",
        "\n",
        "\n",
        "\n",
        "1.   Automatically create 2 integer matrices whicch have values in the range of [-10, 30]\n",
        "2.   Print them to the screen\n",
        "3.   Perform matrix addition of the above 2 matrices and print the result to the screen. \n",
        "\n"
      ]
    },
    {
      "cell_type": "code",
      "metadata": {
        "id": "v5VflDc0yhn4",
        "colab_type": "code",
        "colab": {}
      },
      "source": [
        "#Your code here"
      ],
      "execution_count": 0,
      "outputs": []
    },
    {
      "cell_type": "code",
      "metadata": {
        "id": "FsMpGeq-zhfo",
        "colab_type": "code",
        "colab": {}
      },
      "source": [
        ""
      ],
      "execution_count": 0,
      "outputs": []
    }
  ]
}